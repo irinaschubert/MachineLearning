{
 "cells": [
  {
   "cell_type": "code",
   "execution_count": 2,
   "metadata": {},
   "outputs": [],
   "source": [
    "import pandas as pd\n",
    "import numpy as np\n",
    "import scipy\n",
    "import matplotlib.pyplot as plt\n",
    "\n",
    "from sklearn.model_selection import train_test_split\n",
    "from sklearn.model_selection import cross_val_score\n",
    "from sklearn.model_selection import GridSearchCV\n",
    "from sklearn import metrics\n",
    "\n",
    "%matplotlib inline \n",
    "\n",
    "# define project path\n",
    "projectpath = 'projectpath'\n",
    "train_data_csv = projectpath + 'train.csv'\n",
    "test_data_csv = projectpath + 'test.csv'\n",
    "\n",
    "df_train = pd.read_csv(train_data_csv,header=None)\n",
    "\n",
    "# save target values with index into new dataframe 'labels'\n",
    "df_labels = pd.read_csv(train_data_csv, names=['target'], header=None, usecols=[1])\n",
    "\n",
    "# save as array\n",
    "df_labels = df_labels['target'].values\n",
    "\n",
    "# save data into new dataframe 'training_data'\n",
    "df_training_data_raw = df_train.drop(columns=[0,1])\n",
    "\n",
    "# split dataset into train (80%) and test data (20%); random_state=1 makes it reproducible (could be any number); stratify ensures that the proportion stays in test and training data sets\n",
    "data_train, data_test, labels_train, labels_test = train_test_split(df_training_data_raw, df_labels, test_size=0.2, random_state=1, shuffle=True, stratify=df_labels)"
   ]
  },
  {
   "cell_type": "markdown",
   "metadata": {},
   "source": [
    "## PCA"
   ]
  },
  {
   "cell_type": "code",
   "execution_count": 3,
   "metadata": {},
   "outputs": [],
   "source": [
    "from sklearn.decomposition import PCA\n",
    "pca = PCA(n_components=0.95)\n",
    "data_train_reduced = pca.fit_transform(data_train)"
   ]
  },
  {
   "cell_type": "markdown",
   "metadata": {},
   "source": [
    "## Gradient Boost Classifier"
   ]
  },
  {
   "cell_type": "code",
   "execution_count": 4,
   "metadata": {},
   "outputs": [],
   "source": [
    "from sklearn.ensemble import GradientBoostingClassifier"
   ]
  },
  {
   "cell_type": "markdown",
   "metadata": {},
   "source": [
    "## fit model on training data"
   ]
  },
  {
   "cell_type": "code",
   "execution_count": null,
   "metadata": {},
   "outputs": [],
   "source": [
    "clf = GradientBoostingClassifier(n_estimators=9300, learning_rate=0.1, max_depth=7, random_state=0)\n",
    "clf.fit(data_train_reduced, labels_train)"
   ]
  },
  {
   "cell_type": "markdown",
   "metadata": {},
   "source": [
    "## check results"
   ]
  },
  {
   "cell_type": "code",
   "execution_count": null,
   "metadata": {},
   "outputs": [],
   "source": [
    "clf.score(data_test, labels_test)"
   ]
  },
  {
   "cell_type": "code",
   "execution_count": null,
   "metadata": {},
   "outputs": [],
   "source": [
    "# predict the labels for the test slice\n",
    "labels_pred = clf.predict(data_test)\n",
    "print(labels_pred[:100])"
   ]
  },
  {
   "cell_type": "code",
   "execution_count": null,
   "metadata": {},
   "outputs": [],
   "source": [
    "# check the accuracy for the test data\n",
    "print(\"Accuracy:\", metrics.accuracy_score(labels_test, labels_pred))\n",
    "# check the precision for the test data\n",
    "print(\"Precision:\",metrics.precision_score(labels_test, labels_pred, average=None))\n",
    "# check the recall for the test data\n",
    "print(\"Recall:\",metrics.recall_score(labels_test, labels_pred, average=None))"
   ]
  },
  {
   "cell_type": "code",
   "execution_count": null,
   "metadata": {},
   "outputs": [],
   "source": [
    "df_test=pd.read_csv(test_data_csv, sep=',', header=None)\n",
    "test_data_new = df_test.drop(columns=[0])\n",
    "# predict values for new data\n",
    "predicted = clf.predict(test_data_new)\n",
    "print(predicted[0:100])"
   ]
  },
  {
   "cell_type": "code",
   "execution_count": null,
   "metadata": {},
   "outputs": [],
   "source": [
    "df_submission = pd.DataFrame(columns=['id','target'])\n",
    "predicted = pd.Series(predicted)\n",
    "df_submission.head()"
   ]
  },
  {
   "cell_type": "code",
   "execution_count": null,
   "metadata": {},
   "outputs": [],
   "source": [
    "# add calculated target values to csv and format for submission\n",
    "df_submission['target'] = predicted\n",
    "df_submission['id'] = df_submission.index\n",
    "submission_file = projectpath + 'submission.csv'\n",
    "df_submission.head()"
   ]
  },
  {
   "cell_type": "code",
   "execution_count": null,
   "metadata": {},
   "outputs": [],
   "source": [
    "df_submission.to_csv(submission_file, index=False, columns=['id','target'])"
   ]
  }
 ],
 "metadata": {
  "kernelspec": {
   "display_name": "v_conda",
   "language": "python",
   "name": "v_conda"
  },
  "language_info": {
   "codemirror_mode": {
    "name": "ipython",
    "version": 3
   },
   "file_extension": ".py",
   "mimetype": "text/x-python",
   "name": "python",
   "nbconvert_exporter": "python",
   "pygments_lexer": "ipython3",
   "version": "3.6.8"
  }
 },
 "nbformat": 4,
 "nbformat_minor": 2
}
