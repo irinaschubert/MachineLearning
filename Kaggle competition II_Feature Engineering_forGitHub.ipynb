{
 "cells": [
  {
   "cell_type": "markdown",
   "metadata": {},
   "source": [
    "Pipeline:\n",
    "    0. preparation: import statements, paths, inspect images\n",
    "    1. transform images with transparent background\n",
    "    2. move images to start of pipeline\n",
    "    3. make images binary colored\n",
    "    4. make all backgrounds black and figure white\n",
    "    4a. just to experiment: skeletonize images\n",
    "    5. trim borders\n",
    "    6. resize images to 10x10 pixel\n",
    "    7. flatten and write result to csv"
   ]
  },
  {
   "cell_type": "markdown",
   "metadata": {},
   "source": [
    "# import statements"
   ]
  },
  {
   "cell_type": "code",
   "execution_count": 100,
   "metadata": {},
   "outputs": [],
   "source": [
    "import matplotlib.pyplot as plt\n",
    "import numpy as np\n",
    "import os\n",
    "import cv2\n",
    "import skimage\n",
    "\n",
    "from skimage import io, exposure, img_as_float\n",
    "from skimage.transform import resize\n",
    "from skimage.util import invert\n",
    "from skimage.morphology import skeletonize\n",
    "from skimage.filters import threshold_minimum\n",
    "from PIL import Image, ImageChops"
   ]
  },
  {
   "cell_type": "markdown",
   "metadata": {},
   "source": [
    "# paths"
   ]
  },
  {
   "cell_type": "code",
   "execution_count": 101,
   "metadata": {},
   "outputs": [],
   "source": [
    "# define all paths\n",
    "\n",
    "projectpath = 'projectpath'\n",
    "\n",
    "# training data\n",
    "#srcpath = projectpath+'/01_data/Bilder/train'\n",
    "\n",
    "# test data\n",
    "srcpath = projectpath+'/01_data/Bilder/test'\n",
    "\n",
    "startpath = projectpath+'/02_start/'\n",
    "\n",
    "binarypath = projectpath+'/03_binary/'\n",
    "\n",
    "whiteonblackpath = projectpath+'/04_white_on_black/'\n",
    "\n",
    "skeletonpath = projectpath+'/04a_skeletonized/'\n",
    "\n",
    "trimmedpath = projectpath+'/05_trimmed/'\n",
    "\n",
    "resizedpath = projectpath+'/06_resized/'\n",
    "\n",
    "resultpath = projectpath+'/07_result/'"
   ]
  },
  {
   "cell_type": "markdown",
   "metadata": {},
   "source": [
    "# inspect images"
   ]
  },
  {
   "cell_type": "code",
   "execution_count": 102,
   "metadata": {},
   "outputs": [
    {
     "name": "stdout",
     "output_type": "stream",
     "text": [
      "uint8:  380\n",
      "uint16:  335\n",
      "others:  0\n",
      "\n",
      "shapes:\n"
     ]
    }
   ],
   "source": [
    "# inspect images: dtype and shape\n",
    "\n",
    "i8 = 0\n",
    "i16 = 0\n",
    "iother = 0\n",
    "\n",
    "for pic in os.listdir(srcpath):\n",
    "    image = io.imread(srcpath+'/'+pic)\n",
    "    if(image.dtype == 'uint8'):\n",
    "        i8 = i8+1\n",
    "    elif(image.dtype == 'uint16'):\n",
    "        i16 = i16+1\n",
    "    else:\n",
    "        ielse = iother+1\n",
    "    \n",
    "print(\"uint8: \", i8)\n",
    "print(\"uint16: \", i16)\n",
    "print(\"others: \", iother)\n",
    "\n",
    "print(\"\\nshapes:\")\n",
    "for pic in os.listdir(srcpath):\n",
    "    image = io.imread(srcpath+'/'+pic)\n",
    "    #print(image.shape)"
   ]
  },
  {
   "cell_type": "markdown",
   "metadata": {},
   "source": [
    "# transform images (png) with transparent background"
   ]
  },
  {
   "cell_type": "code",
   "execution_count": 103,
   "metadata": {},
   "outputs": [],
   "source": [
    "# function to transform png with transparent background to normal images\n",
    "# series u013, u017, u031 and u032 are affected\n",
    "# taken from https://www.linkedin.com/pulse/afternoon-debugging-e-commerce-image-processing-nikhil-rasiwasia/\n",
    "\n",
    "def read_transparent_png(filename):\n",
    "    image_4channel = cv2.imread(filename, cv2.IMREAD_UNCHANGED)\n",
    "    alpha_channel = image_4channel[:,:,3]\n",
    "    rgb_channels = image_4channel[:,:,:3]\n",
    "    \n",
    "    # White Background Image\n",
    "    white_background_image = np.ones_like(rgb_channels, dtype=np.uint8) * 255\n",
    "    \n",
    "    # Alpha factor\n",
    "    alpha_factor = alpha_channel[:,:,np.newaxis].astype(np.float32) / 255.0\n",
    "    alpha_factor = np.concatenate((alpha_factor,alpha_factor,alpha_factor), axis=2)\n",
    "\n",
    "    # Transparent Image Rendered on White Background\n",
    "    base = rgb_channels.astype(np.float32) * alpha_factor\n",
    "    white = white_background_image.astype(np.float32) * (1 - alpha_factor)\n",
    "    final_image = base + white\n",
    "    return final_image.astype(np.uint8)"
   ]
  },
  {
   "cell_type": "code",
   "execution_count": 104,
   "metadata": {},
   "outputs": [],
   "source": [
    "for pic in os.listdir(srcpath):\n",
    "    image = io.imread(srcpath+'/'+pic)\n",
    "    try:\n",
    "        image = read_transparent_png(srcpath+'/'+pic)\n",
    "        cv2.imwrite(srcpath+'/'+pic, image)\n",
    "    except:\n",
    "        pass"
   ]
  },
  {
   "cell_type": "markdown",
   "metadata": {},
   "source": [
    "# move images into start location"
   ]
  },
  {
   "cell_type": "code",
   "execution_count": 105,
   "metadata": {},
   "outputs": [],
   "source": [
    "# move images into start location\n",
    "\n",
    "for pic in os.listdir(srcpath):\n",
    "    image = cv2.imread(srcpath+'/'+pic, cv2.IMREAD_UNCHANGED)\n",
    "    # make all images uint8 type first - doesn't work properly for gray images\n",
    "    #image = image.astype('uint8')\n",
    "    io.imsave(startpath+pic, image)"
   ]
  },
  {
   "cell_type": "markdown",
   "metadata": {},
   "source": [
    "# make images binary"
   ]
  },
  {
   "cell_type": "code",
   "execution_count": 106,
   "metadata": {},
   "outputs": [],
   "source": [
    "# make images binary\n",
    "\n",
    "for pic in os.listdir(startpath):\n",
    "    image_gray = cv2.imread(startpath+pic, cv2.IMREAD_GRAYSCALE)\n",
    "    (thresh, image_binary) = cv2.threshold(image_gray, 128, 255, cv2.THRESH_BINARY | cv2.THRESH_OTSU)\n",
    "    cv2.imwrite(binarypath+pic, image_binary)"
   ]
  },
  {
   "cell_type": "markdown",
   "metadata": {},
   "source": [
    "# count pixels and take greater value for background, invert image if background is white"
   ]
  },
  {
   "cell_type": "code",
   "execution_count": 107,
   "metadata": {},
   "outputs": [],
   "source": [
    "# Make all images have a black background and a white figure.\n",
    "# If number of non zero pixels (white) is greater than the number of zero pixels (black),\n",
    "# the image is assumed to have a white background, therefore invert image.\n",
    "# 255 means white, 0 means black.\n",
    "\n",
    "for pic in os.listdir(binarypath):\n",
    "    image = cv2.imread(binarypath+pic, cv2.IMREAD_UNCHANGED)\n",
    "    total = image.shape[0]*image.shape[1]\n",
    "    if(cv2.countNonZero(image) > (total - cv2.countNonZero(image))):\n",
    "        image_inverted = cv2.bitwise_not(image)\n",
    "        cv2.imwrite(whiteonblackpath+pic, image_inverted)\n",
    "    else:\n",
    "        cv2.imwrite(whiteonblackpath+pic, image)"
   ]
  },
  {
   "cell_type": "markdown",
   "metadata": {},
   "source": [
    "# skeletonize"
   ]
  },
  {
   "cell_type": "code",
   "execution_count": 108,
   "metadata": {},
   "outputs": [],
   "source": [
    "# skeltonize images\n",
    "\n",
    "for pic in os.listdir(whiteonblackpath):\n",
    "    image = io.imread(whiteonblackpath+pic)\n",
    "    image = image / 255\n",
    "    image_skeleton=skeletonize(image)\n",
    "    image_skeleton = image_skeleton*255\n",
    "    cv2.imwrite(skeletonpath+pic, image_skeleton)"
   ]
  },
  {
   "cell_type": "markdown",
   "metadata": {},
   "source": [
    "# trim borders"
   ]
  },
  {
   "cell_type": "code",
   "execution_count": 109,
   "metadata": {},
   "outputs": [],
   "source": [
    "# trim borders of images\n",
    "# taken from https://stackoverflow.com/questions/10615901/trim-whitespace-using-pil/10616717#10616717\n",
    "\n",
    "def trim(im):\n",
    "    bg = Image.new(im.mode, im.size, im.getpixel((0,0)))\n",
    "    diff = ImageChops.difference(im, bg)\n",
    "    diff = ImageChops.add(diff, diff, 2.0, -100)\n",
    "    bbox = diff.getbbox()\n",
    "    if bbox:\n",
    "        return im.crop(bbox)\n",
    "\n",
    "for pic in os.listdir(skeletonpath):\n",
    "    image = Image.open(skeletonpath+pic)\n",
    "    image = trim(image)\n",
    "    image.save(trimmedpath+pic)"
   ]
  },
  {
   "cell_type": "markdown",
   "metadata": {},
   "source": [
    "# resize image to 10x10 pixel size"
   ]
  },
  {
   "cell_type": "code",
   "execution_count": 110,
   "metadata": {},
   "outputs": [],
   "source": [
    "# resize all images to 10x10 pixel images\n",
    "# define size globally\n",
    "\n",
    "dim = (10,10)\n",
    "count = 10*10\n",
    "\n",
    "for pic in os.listdir(trimmedpath):\n",
    "    image = io.imread(trimmedpath+pic)\n",
    "    resized = cv2.resize(image, dim, interpolation = cv2.INTER_AREA)\n",
    "    cv2.imwrite(resizedpath+pic, resized)"
   ]
  },
  {
   "cell_type": "markdown",
   "metadata": {},
   "source": [
    "# flatten images and save"
   ]
  },
  {
   "cell_type": "code",
   "execution_count": 111,
   "metadata": {},
   "outputs": [],
   "source": [
    "# flatten image values and save to csv file\n",
    "count = 10*10\n",
    "\n",
    "firstline = 'img_name'\n",
    "for i in range(count):\n",
    "    if(len(str(i)) == 1):\n",
    "        firstline = firstline+',x00'+str(i)\n",
    "    elif(len(str(i)) == 2):\n",
    "        firstline = firstline+',x0'+str(i)\n",
    "    elif(len(str(i)) == 3):\n",
    "        firstline = firstline+',x'+str(i)\n",
    "        \n",
    "with open(projectpath+\"/result.csv\", 'a') as f:\n",
    "        f.write(firstline+'\\n')\n",
    "        \n",
    "for pic in os.listdir(resizedpath):\n",
    "    image = plt.imread(resizedpath+pic)\n",
    "    #thresh = threshold_minimum(image_resized)\n",
    "    thresh = 0.0000001\n",
    "    binary = image < thresh\n",
    "    binary = binary.astype(int)\n",
    "    plt.imsave(resultpath+pic,binary,cmap=\"binary\")\n",
    "    \n",
    "    flat = binary.flatten()\n",
    "    with open(projectpath+\"/result.csv\", 'a') as f:\n",
    "        flat_str = ','.join(map(str,flat))\n",
    "        line = pic+','+flat_str+'\\n'\n",
    "        f.write(line)\n"
   ]
  },
  {
   "cell_type": "code",
   "execution_count": null,
   "metadata": {},
   "outputs": [],
   "source": []
  }
 ],
 "metadata": {
  "kernelspec": {
   "display_name": "v_conda",
   "language": "python",
   "name": "v_conda"
  },
  "language_info": {
   "codemirror_mode": {
    "name": "ipython",
    "version": 3
   },
   "file_extension": ".py",
   "mimetype": "text/x-python",
   "name": "python",
   "nbconvert_exporter": "python",
   "pygments_lexer": "ipython3",
   "version": "3.6.8"
  }
 },
 "nbformat": 4,
 "nbformat_minor": 2
}
