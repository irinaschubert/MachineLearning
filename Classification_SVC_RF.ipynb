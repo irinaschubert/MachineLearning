{
 "cells": [
  {
   "cell_type": "markdown",
   "metadata": {},
   "source": [
    "\n"
   ]
  },
  {
   "cell_type": "markdown",
   "metadata": {},
   "source": [
    "procedure:\n",
    "    0. prepare the training data for training a model\n",
    "    1. use SVC\n",
    "    2. use Random Forest\n",
    "    3. use the model on new data (test)\n",
    "    4. write to submission file (csv)"
   ]
  },
  {
   "cell_type": "markdown",
   "metadata": {},
   "source": [
    "# import statements"
   ]
  },
  {
   "cell_type": "code",
   "execution_count": 51,
   "metadata": {},
   "outputs": [],
   "source": [
    "import pandas as pd\n",
    "import numpy as np\n",
    "import matplotlib.pyplot as plt\n",
    "from sklearn.model_selection import train_test_split\n",
    "from sklearn.model_selection import cross_val_score\n",
    "from sklearn.model_selection import GridSearchCV"
   ]
  },
  {
   "cell_type": "markdown",
   "metadata": {},
   "source": [
    "# declare paths and variables for training data"
   ]
  },
  {
   "cell_type": "code",
   "execution_count": 52,
   "metadata": {},
   "outputs": [
    {
     "data": {
      "text/html": [
       "<div>\n",
       "<style scoped>\n",
       "    .dataframe tbody tr th:only-of-type {\n",
       "        vertical-align: middle;\n",
       "    }\n",
       "\n",
       "    .dataframe tbody tr th {\n",
       "        vertical-align: top;\n",
       "    }\n",
       "\n",
       "    .dataframe thead th {\n",
       "        text-align: right;\n",
       "    }\n",
       "</style>\n",
       "<table border=\"1\" class=\"dataframe\">\n",
       "  <thead>\n",
       "    <tr style=\"text-align: right;\">\n",
       "      <th></th>\n",
       "      <th>x000</th>\n",
       "      <th>x001</th>\n",
       "      <th>x002</th>\n",
       "      <th>x003</th>\n",
       "      <th>x004</th>\n",
       "      <th>x005</th>\n",
       "      <th>x006</th>\n",
       "      <th>x007</th>\n",
       "      <th>x008</th>\n",
       "      <th>x009</th>\n",
       "      <th>...</th>\n",
       "      <th>x090</th>\n",
       "      <th>x091</th>\n",
       "      <th>x092</th>\n",
       "      <th>x093</th>\n",
       "      <th>x094</th>\n",
       "      <th>x095</th>\n",
       "      <th>x096</th>\n",
       "      <th>x097</th>\n",
       "      <th>x098</th>\n",
       "      <th>x099</th>\n",
       "    </tr>\n",
       "  </thead>\n",
       "  <tbody>\n",
       "    <tr>\n",
       "      <th>0</th>\n",
       "      <td>1</td>\n",
       "      <td>1</td>\n",
       "      <td>1</td>\n",
       "      <td>0</td>\n",
       "      <td>1</td>\n",
       "      <td>1</td>\n",
       "      <td>1</td>\n",
       "      <td>1</td>\n",
       "      <td>1</td>\n",
       "      <td>1</td>\n",
       "      <td>...</td>\n",
       "      <td>1</td>\n",
       "      <td>1</td>\n",
       "      <td>1</td>\n",
       "      <td>1</td>\n",
       "      <td>0</td>\n",
       "      <td>1</td>\n",
       "      <td>1</td>\n",
       "      <td>1</td>\n",
       "      <td>1</td>\n",
       "      <td>1</td>\n",
       "    </tr>\n",
       "    <tr>\n",
       "      <th>1</th>\n",
       "      <td>1</td>\n",
       "      <td>1</td>\n",
       "      <td>1</td>\n",
       "      <td>0</td>\n",
       "      <td>0</td>\n",
       "      <td>0</td>\n",
       "      <td>0</td>\n",
       "      <td>0</td>\n",
       "      <td>0</td>\n",
       "      <td>1</td>\n",
       "      <td>...</td>\n",
       "      <td>1</td>\n",
       "      <td>0</td>\n",
       "      <td>0</td>\n",
       "      <td>0</td>\n",
       "      <td>0</td>\n",
       "      <td>0</td>\n",
       "      <td>0</td>\n",
       "      <td>1</td>\n",
       "      <td>1</td>\n",
       "      <td>1</td>\n",
       "    </tr>\n",
       "    <tr>\n",
       "      <th>2</th>\n",
       "      <td>0</td>\n",
       "      <td>0</td>\n",
       "      <td>1</td>\n",
       "      <td>1</td>\n",
       "      <td>1</td>\n",
       "      <td>1</td>\n",
       "      <td>1</td>\n",
       "      <td>1</td>\n",
       "      <td>0</td>\n",
       "      <td>0</td>\n",
       "      <td>...</td>\n",
       "      <td>1</td>\n",
       "      <td>0</td>\n",
       "      <td>0</td>\n",
       "      <td>1</td>\n",
       "      <td>1</td>\n",
       "      <td>1</td>\n",
       "      <td>1</td>\n",
       "      <td>1</td>\n",
       "      <td>0</td>\n",
       "      <td>0</td>\n",
       "    </tr>\n",
       "    <tr>\n",
       "      <th>3</th>\n",
       "      <td>0</td>\n",
       "      <td>1</td>\n",
       "      <td>1</td>\n",
       "      <td>1</td>\n",
       "      <td>1</td>\n",
       "      <td>1</td>\n",
       "      <td>1</td>\n",
       "      <td>1</td>\n",
       "      <td>1</td>\n",
       "      <td>1</td>\n",
       "      <td>...</td>\n",
       "      <td>1</td>\n",
       "      <td>0</td>\n",
       "      <td>0</td>\n",
       "      <td>1</td>\n",
       "      <td>1</td>\n",
       "      <td>1</td>\n",
       "      <td>1</td>\n",
       "      <td>0</td>\n",
       "      <td>0</td>\n",
       "      <td>1</td>\n",
       "    </tr>\n",
       "    <tr>\n",
       "      <th>4</th>\n",
       "      <td>1</td>\n",
       "      <td>1</td>\n",
       "      <td>1</td>\n",
       "      <td>1</td>\n",
       "      <td>0</td>\n",
       "      <td>1</td>\n",
       "      <td>1</td>\n",
       "      <td>1</td>\n",
       "      <td>1</td>\n",
       "      <td>1</td>\n",
       "      <td>...</td>\n",
       "      <td>1</td>\n",
       "      <td>1</td>\n",
       "      <td>1</td>\n",
       "      <td>1</td>\n",
       "      <td>0</td>\n",
       "      <td>1</td>\n",
       "      <td>1</td>\n",
       "      <td>1</td>\n",
       "      <td>1</td>\n",
       "      <td>1</td>\n",
       "    </tr>\n",
       "  </tbody>\n",
       "</table>\n",
       "<p>5 rows × 100 columns</p>\n",
       "</div>"
      ],
      "text/plain": [
       "   x000  x001  x002  x003  x004  x005  x006  x007  x008  x009  ...   x090  \\\n",
       "0     1     1     1     0     1     1     1     1     1     1  ...      1   \n",
       "1     1     1     1     0     0     0     0     0     0     1  ...      1   \n",
       "2     0     0     1     1     1     1     1     1     0     0  ...      1   \n",
       "3     0     1     1     1     1     1     1     1     1     1  ...      1   \n",
       "4     1     1     1     1     0     1     1     1     1     1  ...      1   \n",
       "\n",
       "   x091  x092  x093  x094  x095  x096  x097  x098  x099  \n",
       "0     1     1     1     0     1     1     1     1     1  \n",
       "1     0     0     0     0     0     0     1     1     1  \n",
       "2     0     0     1     1     1     1     1     0     0  \n",
       "3     0     0     1     1     1     1     0     0     1  \n",
       "4     1     1     1     0     1     1     1     1     1  \n",
       "\n",
       "[5 rows x 100 columns]"
      ]
     },
     "execution_count": 52,
     "metadata": {},
     "output_type": "execute_result"
    }
   ],
   "source": [
    "# import the data from a csv file and show first lines\n",
    "train_data_csv = \"path_to_training_data.csv\"\n",
    "labels = \"path_to_target_info_training_data.csv\"\n",
    "\n",
    "train_data= train_data_csv\n",
    "df_train=pd.read_csv(train_data, sep=',',)\n",
    "\n",
    "# create a dataframe with all training data except the target column y and the column Id which is not used here\n",
    "X = df_train.drop(columns=['img_name'])\n",
    "# check that the columns has been removed\n",
    "X.head()"
   ]
  },
  {
   "cell_type": "markdown",
   "metadata": {},
   "source": [
    "# prepare the training data for the training"
   ]
  },
  {
   "cell_type": "code",
   "execution_count": 53,
   "metadata": {},
   "outputs": [
    {
     "data": {
      "text/html": [
       "<div>\n",
       "<style scoped>\n",
       "    .dataframe tbody tr th:only-of-type {\n",
       "        vertical-align: middle;\n",
       "    }\n",
       "\n",
       "    .dataframe tbody tr th {\n",
       "        vertical-align: top;\n",
       "    }\n",
       "\n",
       "    .dataframe thead th {\n",
       "        text-align: right;\n",
       "    }\n",
       "</style>\n",
       "<table border=\"1\" class=\"dataframe\">\n",
       "  <thead>\n",
       "    <tr style=\"text-align: right;\">\n",
       "      <th></th>\n",
       "      <th>id</th>\n",
       "      <th>target</th>\n",
       "    </tr>\n",
       "  </thead>\n",
       "  <tbody>\n",
       "    <tr>\n",
       "      <th>0</th>\n",
       "      <td>0</td>\n",
       "      <td>2</td>\n",
       "    </tr>\n",
       "    <tr>\n",
       "      <th>1</th>\n",
       "      <td>1</td>\n",
       "      <td>1</td>\n",
       "    </tr>\n",
       "    <tr>\n",
       "      <th>2</th>\n",
       "      <td>2</td>\n",
       "      <td>0</td>\n",
       "    </tr>\n",
       "    <tr>\n",
       "      <th>3</th>\n",
       "      <td>3</td>\n",
       "      <td>0</td>\n",
       "    </tr>\n",
       "    <tr>\n",
       "      <th>4</th>\n",
       "      <td>4</td>\n",
       "      <td>2</td>\n",
       "    </tr>\n",
       "  </tbody>\n",
       "</table>\n",
       "</div>"
      ],
      "text/plain": [
       "   id  target\n",
       "0   0       2\n",
       "1   1       1\n",
       "2   2       0\n",
       "3   3       0\n",
       "4   4       2"
      ]
     },
     "execution_count": 53,
     "metadata": {},
     "output_type": "execute_result"
    }
   ],
   "source": [
    "# target values\n",
    "df_labels=pd.read_csv(labels, sep=';',)\n",
    "df_labels.head()"
   ]
  },
  {
   "cell_type": "code",
   "execution_count": 55,
   "metadata": {},
   "outputs": [
    {
     "data": {
      "text/plain": [
       "array([2, 1, 0, 0, 2], dtype=int64)"
      ]
     },
     "execution_count": 55,
     "metadata": {},
     "output_type": "execute_result"
    }
   ],
   "source": [
    "# separate target values\n",
    "y = df_labels['target'].values\n",
    "\n",
    "# show first 5 target values\n",
    "y[0:5]"
   ]
  },
  {
   "cell_type": "code",
   "execution_count": 56,
   "metadata": {},
   "outputs": [],
   "source": [
    "# split dataset into train (80%) and test data (20%); random_state=1 makes it reproducible; stratify=y ensures that the proportion stays in test and training data sets\n",
    "X_train, X_test, y_train, y_test = train_test_split(X, y, test_size=0.2, random_state=1, stratify=y)"
   ]
  },
  {
   "cell_type": "markdown",
   "metadata": {},
   "source": [
    "# SVC"
   ]
  },
  {
   "cell_type": "code",
   "execution_count": 57,
   "metadata": {},
   "outputs": [
    {
     "data": {
      "text/plain": [
       "SVC(C=1.0, cache_size=200, class_weight=None, coef0=0.0,\n",
       "  decision_function_shape='ovr', degree=3, gamma='auto', kernel='rbf',\n",
       "  max_iter=-1, probability=False, random_state=None, shrinking=True,\n",
       "  tol=0.001, verbose=False)"
      ]
     },
     "execution_count": 57,
     "metadata": {},
     "output_type": "execute_result"
    }
   ],
   "source": [
    "from sklearn.svm import SVC\n",
    "\n",
    "# define the SVC model with training and testing slices from above\n",
    "svm_clf = SVC(gamma=\"auto\")\n",
    "svm_clf.fit(X_train, y_train)"
   ]
  },
  {
   "cell_type": "code",
   "execution_count": 58,
   "metadata": {},
   "outputs": [
    {
     "name": "stdout",
     "output_type": "stream",
     "text": [
      "[2 0 0 2 1 1 0 1 1 1 1 0 2 2 2 0 1 0 2 0 0 0 0 1 1 2 0 1 2 0 2 0 2 2 0 2 0\n",
      " 2 0 2 2 1 0 0 1 2 1 0 0 2 1 1 0 1 0 1 2 2 1 0 2 1 2 1 2 2 1 2 1 1 2 2 0 2\n",
      " 0 2 2 0 0 2 0 0 1 2 1 1 1 0 0 0 0 2 1 0 0 0 2 2 2 1 2 2 1 0 0 1 1 2 2 2 2\n",
      " 1 1 2 1 1 1 1 0 2 1 0 1 1 2 2 0 1 1 2 0 1 0 0 0 1 2 0 2 1 1 0 0]\n"
     ]
    }
   ],
   "source": [
    "# predict the labels for the test slice\n",
    "y_pred = svm_clf.predict(X_test)\n",
    "print(y_pred)"
   ]
  },
  {
   "cell_type": "code",
   "execution_count": 59,
   "metadata": {},
   "outputs": [
    {
     "data": {
      "text/plain": [
       "0.9877484659925676"
      ]
     },
     "execution_count": 59,
     "metadata": {},
     "output_type": "execute_result"
    }
   ],
   "source": [
    "from sklearn.model_selection import cross_val_score\n",
    "\n",
    "# define the SVC model with cross validation\n",
    "svm_scores = cross_val_score(svm_clf, X_train, y_train, cv=10)\n",
    "svm_scores.mean()"
   ]
  },
  {
   "cell_type": "markdown",
   "metadata": {},
   "source": [
    "# Random Forest"
   ]
  },
  {
   "cell_type": "code",
   "execution_count": 60,
   "metadata": {},
   "outputs": [
    {
     "data": {
      "text/plain": [
       "0.9912572379223923"
      ]
     },
     "execution_count": 60,
     "metadata": {},
     "output_type": "execute_result"
    }
   ],
   "source": [
    "# define the random forest model\n",
    "from sklearn.ensemble import RandomForestClassifier\n",
    "\n",
    "forest_clf = RandomForestClassifier(n_estimators=100, random_state=42)\n",
    "forest_scores = cross_val_score(forest_clf, X_train, y_train, cv=10)\n",
    "forest_scores.mean()"
   ]
  },
  {
   "cell_type": "code",
   "execution_count": 61,
   "metadata": {},
   "outputs": [
    {
     "name": "stdout",
     "output_type": "stream",
     "text": [
      "[0.99305556 0.99305556 0.98601399 1.         1.        ]\n",
      "cv_scores mean:0.9944250194250195\n"
     ]
    }
   ],
   "source": [
    "# create a new model to use it with cross validation\n",
    "model_cv = RandomForestClassifier(n_estimators=100, random_state=42)\n",
    "\n",
    "# train model with cross validation of 5 \n",
    "cv_scores = cross_val_score(model_cv, X, y, cv=5)\n",
    "\n",
    "# print each cv score (=accuracy) and average them\n",
    "print(cv_scores)\n",
    "print('cv_scores mean:{}'.format(np.mean(cv_scores)))"
   ]
  },
  {
   "cell_type": "code",
   "execution_count": 62,
   "metadata": {},
   "outputs": [
    {
     "data": {
      "text/plain": [
       "{'n_estimators': 19}"
      ]
     },
     "execution_count": 62,
     "metadata": {},
     "output_type": "execute_result"
    }
   ],
   "source": [
    "# create a new KNN model to see how GridSearchCV works\n",
    "csv_model = RandomForestClassifier(random_state=42)\n",
    "\n",
    "# create a dictionary of all values we want to test \n",
    "param_grid = {'n_estimators': np.arange(1, 100)}\n",
    "\n",
    "# use gridsearch to test all values for n neighbors\n",
    "csv_gscv = GridSearchCV(csv_model, param_grid, cv=5)\n",
    "\n",
    "# fit model to data\n",
    "csv_gscv.fit(X, y)\n",
    "\n",
    "# check top performing value for n\n",
    "csv_gscv.best_params_\n",
    "\n"
   ]
  },
  {
   "cell_type": "code",
   "execution_count": 63,
   "metadata": {},
   "outputs": [
    {
     "data": {
      "text/plain": [
       "0.9944055944055944"
      ]
     },
     "execution_count": 63,
     "metadata": {},
     "output_type": "execute_result"
    }
   ],
   "source": [
    "# check mean score for the top performing value of n\n",
    "csv_gscv.best_score_"
   ]
  },
  {
   "cell_type": "markdown",
   "metadata": {},
   "source": [
    "# Use the model on the test data"
   ]
  },
  {
   "cell_type": "code",
   "execution_count": 64,
   "metadata": {},
   "outputs": [
    {
     "data": {
      "text/html": [
       "<div>\n",
       "<style scoped>\n",
       "    .dataframe tbody tr th:only-of-type {\n",
       "        vertical-align: middle;\n",
       "    }\n",
       "\n",
       "    .dataframe tbody tr th {\n",
       "        vertical-align: top;\n",
       "    }\n",
       "\n",
       "    .dataframe thead th {\n",
       "        text-align: right;\n",
       "    }\n",
       "</style>\n",
       "<table border=\"1\" class=\"dataframe\">\n",
       "  <thead>\n",
       "    <tr style=\"text-align: right;\">\n",
       "      <th></th>\n",
       "      <th>img_name</th>\n",
       "      <th>x000</th>\n",
       "      <th>x001</th>\n",
       "      <th>x002</th>\n",
       "      <th>x003</th>\n",
       "      <th>x004</th>\n",
       "      <th>x005</th>\n",
       "      <th>x006</th>\n",
       "      <th>x007</th>\n",
       "      <th>x008</th>\n",
       "      <th>...</th>\n",
       "      <th>x090</th>\n",
       "      <th>x091</th>\n",
       "      <th>x092</th>\n",
       "      <th>x093</th>\n",
       "      <th>x094</th>\n",
       "      <th>x095</th>\n",
       "      <th>x096</th>\n",
       "      <th>x097</th>\n",
       "      <th>x098</th>\n",
       "      <th>x099</th>\n",
       "    </tr>\n",
       "  </thead>\n",
       "  <tbody>\n",
       "    <tr>\n",
       "      <th>0</th>\n",
       "      <td>0715-u014.png</td>\n",
       "      <td>0</td>\n",
       "      <td>1</td>\n",
       "      <td>1</td>\n",
       "      <td>1</td>\n",
       "      <td>1</td>\n",
       "      <td>1</td>\n",
       "      <td>1</td>\n",
       "      <td>1</td>\n",
       "      <td>0</td>\n",
       "      <td>...</td>\n",
       "      <td>1</td>\n",
       "      <td>0</td>\n",
       "      <td>1</td>\n",
       "      <td>1</td>\n",
       "      <td>1</td>\n",
       "      <td>1</td>\n",
       "      <td>1</td>\n",
       "      <td>1</td>\n",
       "      <td>1</td>\n",
       "      <td>0</td>\n",
       "    </tr>\n",
       "    <tr>\n",
       "      <th>1</th>\n",
       "      <td>0716-u001.png</td>\n",
       "      <td>1</td>\n",
       "      <td>1</td>\n",
       "      <td>0</td>\n",
       "      <td>0</td>\n",
       "      <td>0</td>\n",
       "      <td>0</td>\n",
       "      <td>0</td>\n",
       "      <td>0</td>\n",
       "      <td>1</td>\n",
       "      <td>...</td>\n",
       "      <td>1</td>\n",
       "      <td>0</td>\n",
       "      <td>0</td>\n",
       "      <td>0</td>\n",
       "      <td>0</td>\n",
       "      <td>0</td>\n",
       "      <td>0</td>\n",
       "      <td>0</td>\n",
       "      <td>1</td>\n",
       "      <td>1</td>\n",
       "    </tr>\n",
       "    <tr>\n",
       "      <th>2</th>\n",
       "      <td>0717-u014.png</td>\n",
       "      <td>1</td>\n",
       "      <td>1</td>\n",
       "      <td>1</td>\n",
       "      <td>1</td>\n",
       "      <td>1</td>\n",
       "      <td>1</td>\n",
       "      <td>1</td>\n",
       "      <td>0</td>\n",
       "      <td>0</td>\n",
       "      <td>...</td>\n",
       "      <td>1</td>\n",
       "      <td>0</td>\n",
       "      <td>1</td>\n",
       "      <td>1</td>\n",
       "      <td>1</td>\n",
       "      <td>1</td>\n",
       "      <td>1</td>\n",
       "      <td>1</td>\n",
       "      <td>1</td>\n",
       "      <td>0</td>\n",
       "    </tr>\n",
       "    <tr>\n",
       "      <th>3</th>\n",
       "      <td>0718-u003.png</td>\n",
       "      <td>1</td>\n",
       "      <td>1</td>\n",
       "      <td>1</td>\n",
       "      <td>0</td>\n",
       "      <td>0</td>\n",
       "      <td>1</td>\n",
       "      <td>1</td>\n",
       "      <td>1</td>\n",
       "      <td>1</td>\n",
       "      <td>...</td>\n",
       "      <td>0</td>\n",
       "      <td>1</td>\n",
       "      <td>1</td>\n",
       "      <td>1</td>\n",
       "      <td>1</td>\n",
       "      <td>1</td>\n",
       "      <td>1</td>\n",
       "      <td>0</td>\n",
       "      <td>0</td>\n",
       "      <td>1</td>\n",
       "    </tr>\n",
       "    <tr>\n",
       "      <th>4</th>\n",
       "      <td>0719-u027.png</td>\n",
       "      <td>1</td>\n",
       "      <td>0</td>\n",
       "      <td>0</td>\n",
       "      <td>0</td>\n",
       "      <td>0</td>\n",
       "      <td>0</td>\n",
       "      <td>0</td>\n",
       "      <td>0</td>\n",
       "      <td>1</td>\n",
       "      <td>...</td>\n",
       "      <td>1</td>\n",
       "      <td>0</td>\n",
       "      <td>0</td>\n",
       "      <td>0</td>\n",
       "      <td>0</td>\n",
       "      <td>0</td>\n",
       "      <td>0</td>\n",
       "      <td>0</td>\n",
       "      <td>0</td>\n",
       "      <td>1</td>\n",
       "    </tr>\n",
       "  </tbody>\n",
       "</table>\n",
       "<p>5 rows × 101 columns</p>\n",
       "</div>"
      ],
      "text/plain": [
       "        img_name  x000  x001  x002  x003  x004  x005  x006  x007  x008  ...   \\\n",
       "0  0715-u014.png     0     1     1     1     1     1     1     1     0  ...    \n",
       "1  0716-u001.png     1     1     0     0     0     0     0     0     1  ...    \n",
       "2  0717-u014.png     1     1     1     1     1     1     1     0     0  ...    \n",
       "3  0718-u003.png     1     1     1     0     0     1     1     1     1  ...    \n",
       "4  0719-u027.png     1     0     0     0     0     0     0     0     1  ...    \n",
       "\n",
       "   x090  x091  x092  x093  x094  x095  x096  x097  x098  x099  \n",
       "0     1     0     1     1     1     1     1     1     1     0  \n",
       "1     1     0     0     0     0     0     0     0     1     1  \n",
       "2     1     0     1     1     1     1     1     1     1     0  \n",
       "3     0     1     1     1     1     1     1     0     0     1  \n",
       "4     1     0     0     0     0     0     0     0     0     1  \n",
       "\n",
       "[5 rows x 101 columns]"
      ]
     },
     "execution_count": 64,
     "metadata": {},
     "output_type": "execute_result"
    }
   ],
   "source": [
    "# make predictions on the unseen test data\n",
    "test_data= 'path_to_new_data.csv'\n",
    "df_test=pd.read_csv(test_data, sep=',',)\n",
    "df_test.head()"
   ]
  },
  {
   "cell_type": "code",
   "execution_count": 65,
   "metadata": {
    "scrolled": true
   },
   "outputs": [
    {
     "data": {
      "text/html": [
       "<div>\n",
       "<style scoped>\n",
       "    .dataframe tbody tr th:only-of-type {\n",
       "        vertical-align: middle;\n",
       "    }\n",
       "\n",
       "    .dataframe tbody tr th {\n",
       "        vertical-align: top;\n",
       "    }\n",
       "\n",
       "    .dataframe thead th {\n",
       "        text-align: right;\n",
       "    }\n",
       "</style>\n",
       "<table border=\"1\" class=\"dataframe\">\n",
       "  <thead>\n",
       "    <tr style=\"text-align: right;\">\n",
       "      <th></th>\n",
       "      <th>x000</th>\n",
       "      <th>x001</th>\n",
       "      <th>x002</th>\n",
       "      <th>x003</th>\n",
       "      <th>x004</th>\n",
       "      <th>x005</th>\n",
       "      <th>x006</th>\n",
       "      <th>x007</th>\n",
       "      <th>x008</th>\n",
       "      <th>x009</th>\n",
       "      <th>...</th>\n",
       "      <th>x090</th>\n",
       "      <th>x091</th>\n",
       "      <th>x092</th>\n",
       "      <th>x093</th>\n",
       "      <th>x094</th>\n",
       "      <th>x095</th>\n",
       "      <th>x096</th>\n",
       "      <th>x097</th>\n",
       "      <th>x098</th>\n",
       "      <th>x099</th>\n",
       "    </tr>\n",
       "  </thead>\n",
       "  <tbody>\n",
       "    <tr>\n",
       "      <th>0</th>\n",
       "      <td>0</td>\n",
       "      <td>1</td>\n",
       "      <td>1</td>\n",
       "      <td>1</td>\n",
       "      <td>1</td>\n",
       "      <td>1</td>\n",
       "      <td>1</td>\n",
       "      <td>1</td>\n",
       "      <td>0</td>\n",
       "      <td>1</td>\n",
       "      <td>...</td>\n",
       "      <td>1</td>\n",
       "      <td>0</td>\n",
       "      <td>1</td>\n",
       "      <td>1</td>\n",
       "      <td>1</td>\n",
       "      <td>1</td>\n",
       "      <td>1</td>\n",
       "      <td>1</td>\n",
       "      <td>1</td>\n",
       "      <td>0</td>\n",
       "    </tr>\n",
       "    <tr>\n",
       "      <th>1</th>\n",
       "      <td>1</td>\n",
       "      <td>1</td>\n",
       "      <td>0</td>\n",
       "      <td>0</td>\n",
       "      <td>0</td>\n",
       "      <td>0</td>\n",
       "      <td>0</td>\n",
       "      <td>0</td>\n",
       "      <td>1</td>\n",
       "      <td>1</td>\n",
       "      <td>...</td>\n",
       "      <td>1</td>\n",
       "      <td>0</td>\n",
       "      <td>0</td>\n",
       "      <td>0</td>\n",
       "      <td>0</td>\n",
       "      <td>0</td>\n",
       "      <td>0</td>\n",
       "      <td>0</td>\n",
       "      <td>1</td>\n",
       "      <td>1</td>\n",
       "    </tr>\n",
       "    <tr>\n",
       "      <th>2</th>\n",
       "      <td>1</td>\n",
       "      <td>1</td>\n",
       "      <td>1</td>\n",
       "      <td>1</td>\n",
       "      <td>1</td>\n",
       "      <td>1</td>\n",
       "      <td>1</td>\n",
       "      <td>0</td>\n",
       "      <td>0</td>\n",
       "      <td>1</td>\n",
       "      <td>...</td>\n",
       "      <td>1</td>\n",
       "      <td>0</td>\n",
       "      <td>1</td>\n",
       "      <td>1</td>\n",
       "      <td>1</td>\n",
       "      <td>1</td>\n",
       "      <td>1</td>\n",
       "      <td>1</td>\n",
       "      <td>1</td>\n",
       "      <td>0</td>\n",
       "    </tr>\n",
       "    <tr>\n",
       "      <th>3</th>\n",
       "      <td>1</td>\n",
       "      <td>1</td>\n",
       "      <td>1</td>\n",
       "      <td>0</td>\n",
       "      <td>0</td>\n",
       "      <td>1</td>\n",
       "      <td>1</td>\n",
       "      <td>1</td>\n",
       "      <td>1</td>\n",
       "      <td>0</td>\n",
       "      <td>...</td>\n",
       "      <td>0</td>\n",
       "      <td>1</td>\n",
       "      <td>1</td>\n",
       "      <td>1</td>\n",
       "      <td>1</td>\n",
       "      <td>1</td>\n",
       "      <td>1</td>\n",
       "      <td>0</td>\n",
       "      <td>0</td>\n",
       "      <td>1</td>\n",
       "    </tr>\n",
       "    <tr>\n",
       "      <th>4</th>\n",
       "      <td>1</td>\n",
       "      <td>0</td>\n",
       "      <td>0</td>\n",
       "      <td>0</td>\n",
       "      <td>0</td>\n",
       "      <td>0</td>\n",
       "      <td>0</td>\n",
       "      <td>0</td>\n",
       "      <td>1</td>\n",
       "      <td>1</td>\n",
       "      <td>...</td>\n",
       "      <td>1</td>\n",
       "      <td>0</td>\n",
       "      <td>0</td>\n",
       "      <td>0</td>\n",
       "      <td>0</td>\n",
       "      <td>0</td>\n",
       "      <td>0</td>\n",
       "      <td>0</td>\n",
       "      <td>0</td>\n",
       "      <td>1</td>\n",
       "    </tr>\n",
       "  </tbody>\n",
       "</table>\n",
       "<p>5 rows × 100 columns</p>\n",
       "</div>"
      ],
      "text/plain": [
       "   x000  x001  x002  x003  x004  x005  x006  x007  x008  x009  ...   x090  \\\n",
       "0     0     1     1     1     1     1     1     1     0     1  ...      1   \n",
       "1     1     1     0     0     0     0     0     0     1     1  ...      1   \n",
       "2     1     1     1     1     1     1     1     0     0     1  ...      1   \n",
       "3     1     1     1     0     0     1     1     1     1     0  ...      0   \n",
       "4     1     0     0     0     0     0     0     0     1     1  ...      1   \n",
       "\n",
       "   x091  x092  x093  x094  x095  x096  x097  x098  x099  \n",
       "0     0     1     1     1     1     1     1     1     0  \n",
       "1     0     0     0     0     0     0     0     1     1  \n",
       "2     0     1     1     1     1     1     1     1     0  \n",
       "3     1     1     1     1     1     1     0     0     1  \n",
       "4     0     0     0     0     0     0     0     0     1  \n",
       "\n",
       "[5 rows x 100 columns]"
      ]
     },
     "execution_count": 65,
     "metadata": {},
     "output_type": "execute_result"
    }
   ],
   "source": [
    "# create a dataframe with all test data except the img_name column which is not used here\n",
    "X_new = df_test.drop(columns=['img_name'])\n",
    "\n",
    "# check that the columns has been removed\n",
    "X_new.head()"
   ]
  },
  {
   "cell_type": "code",
   "execution_count": 66,
   "metadata": {},
   "outputs": [
    {
     "data": {
      "text/plain": [
       "array([0, 1, 0, 0, 1, 2, 0, 1, 1, 2], dtype=int64)"
      ]
     },
     "execution_count": 66,
     "metadata": {},
     "output_type": "execute_result"
    }
   ],
   "source": [
    "# predict values for new data\n",
    "csv_gscv.predict(X_new)[0:10]"
   ]
  },
  {
   "cell_type": "code",
   "execution_count": 67,
   "metadata": {},
   "outputs": [
    {
     "name": "stdout",
     "output_type": "stream",
     "text": [
      "[0 1 0 0 1 2 0 1 1 2 0 1 1 0 0 2 2 0 0 1 2 1 0 0 2 0 1 1 1 0 1 0 1 2 2 2 1\n",
      " 0 2 2 2 0 1 0 2 0 0 1 0 0 0 0 2 0 2 0 2 1 2 0 2 1 2 1 2 0 1 1 1 1 0 2 0 0\n",
      " 0 2 0 1 0 0 1 0 1 1 1 2 1 0 0 1 1 0 2 1 0 1 2 0 0 2 0 2 0 0 1 0 2 0 1 1 2\n",
      " 2 1 2 0 2 0 0 0 1 0 2 0 1 1 0 0 1 2 1 2 0 1 2 2 0 1 1 2 0 2 0 0 1 2 0 1 1\n",
      " 0 1 0 1 0 2 2 2 2 2 2 1 2 2 2 0 0 1 0 0 2 0 1 2 1 0 0 0 0 0 2 1 1 1 0 0 1\n",
      " 0 2 1 0 2 2 1 0 2 2 1 2 2 0 1 1 2 2 2 0 2 2 0 2 0 0 1 1 0 2 0 1 2 1 0 2 2\n",
      " 0 0 2 0 2 0 0 2 1 2 0 2 2 2 0 0 2 2 1 2 2 2 0 0 1 2 1 2 0 2 2 0 0 2 2 0 2\n",
      " 2 0 2 1 2 2 0 0 1 2 1 2 1 1 1 1 1 2 0 0 1 0 0 2 1 1 1 2 1 1 0 1 1 2 1 2 0\n",
      " 2 2 1 2 0 0 0 1 1 0 1 1 1 1 0 0 0 1 0 0 2 0 2 0 0 1 2 2 0 2 0 2 2 2 0 0 0\n",
      " 1 2 2 2 2 2 2 1 0 1 1 2 0 0 0 0 2 0 1 1 1 0 2 1 1 0 1 1 2 2 1 2 0 2 0 1 0\n",
      " 0 1 0 2 2 1 2 0 1 1 1 0 0 0 2 0 1 2 2 2 2 0 2 0 1 2 0 1 2 1 1 1 0 0 2 1 2\n",
      " 0 0 2 0 1 1 1 0 1 1 1 2 0 2 1 1 1 1 0 1 0 2 2 0 1 2 1 1 2 0 1 2 1 2 2 2 2\n",
      " 1 0 0 0 1 0 2 0 1 0 2 0 1 2 2 1 1 2 1 1 2 1 1 2 2 2 1 0 2 0 2 1 0 1 2 0 2\n",
      " 1 0 2 0 1 0 2 2 2 1 0 0 0 1 2 2 0 1 0 0 1 1 1 0 0 2 1 2 0 1 0 0 1 1 1 1 0\n",
      " 1 1 2 2 2 1 0 2 0 0 1 1 0 1 1 2 1 1 2 0 0 0 1 1 0 2 0 1 1 1 2 0 1 0 2 1 2\n",
      " 2 1 1 1 1 2 2 1 0 0 1 0 2 0 1 1 2 2 0 1 2 1 1 0 2 1 0 2 0 2 1 0 0 0 2 1 1\n",
      " 0 2 1 1 2 1 1 2 1 0 2 0 1 1 1 2 1 0 1 2 0 2 1 2 2 2 1 2 2 2 2 1 0 1 0 1 2\n",
      " 0 1 1 2 1 0 2 1 2 2 2 2 2 0 1 0 0 1 1 1 1 0 2 0 1 1 2 0 1 0 0 1 1 2 2 1 2\n",
      " 0 1 0 0 1 2 1 0 0 2 1 2 0 2 2 0 2 1 2 0 0 0 1 1 1 2 2 2 0 2 1 0 0 0 1 2 0\n",
      " 1 1 2 2 0 0 2 1 0 2 2 1]\n"
     ]
    }
   ],
   "source": [
    "# if it looks good, use it\n",
    "model_cv.fit(X, y)\n",
    "model_cv.predict(X_new)[0:5]\n",
    "predicted = model_cv.predict(X_new)\n",
    "print(predicted)"
   ]
  },
  {
   "cell_type": "code",
   "execution_count": 68,
   "metadata": {},
   "outputs": [],
   "source": [
    "# add calculated target values to csv and format for submission\n",
    "df_new['target'] = predicted\n",
    "df_submission = df_new\n",
    "df_submission['id'] = df_submission.index\n",
    "df_submission['id'] += 715\n",
    "submission_file = \"path_to_submission_file.csv\"\n",
    "df_submission.to_csv(submission_file, index=False, columns=['id','target'])"
   ]
  },
  {
   "cell_type": "code",
   "execution_count": null,
   "metadata": {},
   "outputs": [],
   "source": []
  }
 ],
 "metadata": {
  "kernelspec": {
   "display_name": "Python 3",
   "language": "python",
   "name": "python3"
  },
  "language_info": {
   "codemirror_mode": {
    "name": "ipython",
    "version": 3
   },
   "file_extension": ".py",
   "mimetype": "text/x-python",
   "name": "python",
   "nbconvert_exporter": "python",
   "pygments_lexer": "ipython3",
   "version": "3.6.4"
  }
 },
 "nbformat": 4,
 "nbformat_minor": 2
}
